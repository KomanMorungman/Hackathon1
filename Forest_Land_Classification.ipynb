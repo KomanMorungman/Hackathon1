{
  "nbformat": 4,
  "nbformat_minor": 0,
  "metadata": {
    "colab": {
      "provenance": []
    },
    "kernelspec": {
      "name": "python3",
      "display_name": "Python 3"
    },
    "language_info": {
      "name": "python"
    }
  },
  "cells": [
    {
      "cell_type": "markdown",
      "source": [
        "1.Importing libraries"
      ],
      "metadata": {
        "id": "WN5j62-u5A8y"
      }
    },
    {
      "cell_type": "code",
      "execution_count": 1,
      "metadata": {
        "id": "jM7Dfety4pmW"
      },
      "outputs": [],
      "source": [
        "import numpy as np\n",
        "import pandas as pd\n",
        "import matplotlib.pyplot as plt\n",
        "from sklearn.impute import SimpleImputer\n",
        "from sklearn.metrics import accuracy_score"
      ]
    },
    {
      "cell_type": "markdown",
      "source": [
        "2.Loading datasets"
      ],
      "metadata": {
        "id": "8imkQnLU5InX"
      }
    },
    {
      "cell_type": "code",
      "source": [
        "df_train=pd.read_csv('hacktrain.csv')\n",
        "df_test=pd.read_csv('hacktest.csv')"
      ],
      "metadata": {
        "id": "sqIaGbnz5Xhe"
      },
      "execution_count": null,
      "outputs": []
    },
    {
      "cell_type": "markdown",
      "source": [
        "3.Missing values handling"
      ],
      "metadata": {
        "id": "eRhRzsK451zp"
      }
    },
    {
      "cell_type": "markdown",
      "source": [
        "a)Removing unnecessary columns like ID columns (unnecessary for model training)"
      ],
      "metadata": {
        "id": "qfSxqVzT6YB-"
      }
    },
    {
      "cell_type": "code",
      "source": [
        "df_train_n=df_train.iloc[:,2:]\n",
        "df_test_n=df_test.iloc[:,2:]\n"
      ],
      "metadata": {
        "id": "0g5nynEA6E3M"
      },
      "execution_count": null,
      "outputs": []
    },
    {
      "cell_type": "markdown",
      "source": [
        "b)Checking for missing values"
      ],
      "metadata": {
        "id": "UF1a73gd6X0n"
      }
    },
    {
      "cell_type": "code",
      "source": [
        "print(df_train_n.isna().sum())\n",
        "print(df_test_n.isna().sum())\n"
      ],
      "metadata": {
        "id": "ZBst-qUP6Yir"
      },
      "execution_count": null,
      "outputs": []
    },
    {
      "cell_type": "markdown",
      "source": [
        "c)Checking for outliers"
      ],
      "metadata": {
        "id": "Bh09Z_A27VeW"
      }
    },
    {
      "cell_type": "code",
      "source": [
        "#Training data\n",
        "plt.figure(figsize=(14,8))\n",
        "df_train_n.iloc[:,1:].boxplot(rot=90)\n",
        "plt.title(\"Box plot for training data\")\n",
        "plt.xlabel(\"Columns\")\n",
        "plt.ylabel(\"Values\")\n",
        "plt.show()\n",
        "\n",
        "#Testing data\n",
        "plt.figure(figsize=(14,8))\n",
        "df_test_n.iloc[:,:].boxplot(rot=90)\n",
        "plt.title(\"Box plot for testing data\")\n",
        "plt.xlabel(\"Columns\")\n",
        "plt.ylabel(\"Values\")\n",
        "plt.show()"
      ],
      "metadata": {
        "id": "G869ODvp7YSA"
      },
      "execution_count": null,
      "outputs": []
    },
    {
      "cell_type": "markdown",
      "source": [
        "d)Imputation (Filling missing values with appropriate statistical values)"
      ],
      "metadata": {
        "id": "0izQlPaV71-w"
      }
    },
    {
      "cell_type": "code",
      "source": [
        "s_imp_train=SimpleImputer(missing_values=np.nan,strategy='median') #Some columns have outliers, so median is more suitable for continuous variables in training and testing datasets\n",
        "s_imp_test=SimpleImputer(missing_values=np.nan,strategy='median')\n",
        "df_train_n.iloc[:,1:]=s_imp_train.fit_transform(df_train_n.iloc[:,1:])\n",
        "df_test_n.iloc[:,:]=s_imp_test.fit_transform(df_test_n.iloc[:,:])\n",
        "print(df_train_n.isna().sum())\n",
        "print(df_test_n.isna().sum())"
      ],
      "metadata": {
        "id": "-XEFCml_8Cbh"
      },
      "execution_count": null,
      "outputs": []
    },
    {
      "cell_type": "markdown",
      "source": [
        "4.Feature Scaling (here standardization)"
      ],
      "metadata": {
        "id": "hVunxLuL-kn_"
      }
    },
    {
      "cell_type": "code",
      "source": [
        "#Training data\n",
        "from sklearn.preprocessing import StandardScaler\n",
        "sc=StandardScaler()\n",
        "df_train_n.iloc[:,1:]=sc.fit_transform(df_train_n.iloc[:,1:])\n",
        "\n",
        "#Testing data\n",
        "df_test_n.iloc[:,:]=sc.transform(df_test_n.iloc[:,:])\n",
        "print(df_test_n.head())"
      ],
      "metadata": {
        "id": "Og5c7b-o-saj"
      },
      "execution_count": null,
      "outputs": []
    },
    {
      "cell_type": "markdown",
      "source": [
        "5.Splitting dataset into independent(predictors) and dependent(label) variables"
      ],
      "metadata": {
        "id": "k07IiYtc9ruH"
      }
    },
    {
      "cell_type": "code",
      "source": [
        "X=df_train_n.iloc[:,1:]\n",
        "y=df_train_n.iloc[:,0]"
      ],
      "metadata": {
        "id": "9wFRjxtR99IV"
      },
      "execution_count": 15,
      "outputs": []
    },
    {
      "cell_type": "markdown",
      "source": [
        "6.Model training and testing"
      ],
      "metadata": {
        "id": "v0bdjkul_B6m"
      }
    },
    {
      "cell_type": "code",
      "source": [
        "from sklearn.linear_model import LogisticRegression\n",
        "lr_model=LogisticRegression(penalty=\"l1\",C=0.5,solver=\"saga\",max_iter=300)\n",
        "lr_model.fit(X,y)\n",
        "y_pred=lr_model.predict(df_test_n)\n",
        "y_pred=pd.DataFrame(y_pred,columns=['Class'])\n",
        "y_pred.insert(0, 'ID', range(1, len(y_pred) + 1))\n",
        "with pd.option_context('display.max_rows', None, 'display.max_columns', None):\n",
        "    print(y_pred)"
      ],
      "metadata": {
        "id": "2PPn7G-N_G76"
      },
      "execution_count": null,
      "outputs": []
    }
  ]
}